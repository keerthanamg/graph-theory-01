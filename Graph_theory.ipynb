{
  "nbformat": 4,
  "nbformat_minor": 0,
  "metadata": {
    "colab": {
      "provenance": [],
      "authorship_tag": "ABX9TyPUWoYGEMn4dWcOgqAuC2pZ",
      "include_colab_link": true
    },
    "kernelspec": {
      "name": "python3",
      "display_name": "Python 3"
    },
    "language_info": {
      "name": "python"
    }
  },
  "cells": [
    {
      "cell_type": "markdown",
      "metadata": {
        "id": "view-in-github",
        "colab_type": "text"
      },
      "source": [
        "<a href=\"https://colab.research.google.com/github/keerthanamg/graph-theory-01/blob/main/Graph_theory.ipynb\" target=\"_parent\"><img src=\"https://colab.research.google.com/assets/colab-badge.svg\" alt=\"Open In Colab\"/></a>"
      ]
    },
    {
      "cell_type": "code",
      "execution_count": 1,
      "metadata": {
        "id": "yPIRcY-X3gVt"
      },
      "outputs": [],
      "source": [
        "graph = { \"a\" : {\"c\"},\n",
        "          \"b\" : {\"c\", \"e\"},\n",
        "          \"c\" : {\"a\", \"b\", \"d\", \"e\"},\n",
        "          \"d\" : {\"c\"},\n",
        "          \"e\" : {\"c\", \"b\"},\n",
        "          \"f\" : {\"b\",\"g\"}\n",
        "        }\n"
      ]
    },
    {
      "cell_type": "code",
      "execution_count": 2,
      "metadata": {
        "colab": {
          "base_uri": "https://localhost:8080/"
        },
        "id": "cUHgWPOz3j-3",
        "outputId": "eb876b8b-8e98-4545-b4d8-a7bca4935bc6"
      },
      "outputs": [
        {
          "output_type": "stream",
          "name": "stdout",
          "text": [
            "[{'a', 'c'}, {'b', 'e'}, {'b', 'c'}, {'d', 'c'}, {'b', 'c'}, {'e', 'c'}, {'a', 'c'}, {'d', 'c'}, {'b', 'e'}, {'e', 'c'}, {'b', 'f'}, {'f', 'g'}]\n"
          ]
        }
      ],
      "source": [
        "def generate_edges(graph):\n",
        "    edges = []\n",
        "    for node in graph:\n",
        "        for neighbour in graph[node]:\n",
        "            edges.append({node, neighbour})\n",
        "    return edges\n",
        "print(generate_edges(graph))\n",
        "\n",
        "def find_isolated_nodes(graph):\n",
        "    \"\"\" returns a set of isolated nodes. \"\"\"\n",
        "    isolated = set()\n",
        "    for node in graph:\n",
        "        if not graph[node]:\n",
        "            isolated.add(node)\n",
        "    return isolated\n",
        "\n",
        "class Graph(object):\n",
        "    def __init__(self, graph_dict=None):\n",
        "        if graph_dict == None:\n",
        "            graph_dict = {}\n",
        "        self._graph_dict = graph_dict\n",
        "    def edges(self, vertice):\n",
        "        return self._graph_dict[vertice]\n",
        "    def all_vertices(self):\n",
        "        return set(self._graph_dict.keys())\n",
        "    def all_edges(self):\n",
        "        return self.__generate_edges()\n",
        "    def add_vertex(self, vertex):\n",
        "        if vertex not in self._graph_dict:\n",
        "            self._graph_dict[vertex] = []\n",
        "    def add_edge(self, edge):\n",
        "        edge = set(edge)\n",
        "        vertex1, vertex2 = tuple(edge)\n",
        "        for x, y in [(vertex1, vertex2), (vertex2, vertex1)]:\n",
        "            if x in self._graph_dict:\n",
        "                self._graph_dict[x].add(y)\n",
        "            else:\n",
        "                self._graph_dict[x] = [y]\n",
        "    def __generate_edges(self):\n",
        "        edges = []\n",
        "        for vertex in self._graph_dict:\n",
        "            for neighbour in self._graph_dict[vertex]:\n",
        "                if {neighbour, vertex} not in edges:\n",
        "                    edges.append({vertex, neighbour})\n",
        "        return edges\n",
        "    def __iter__(self):\n",
        "        self._iter_obj = iter(self._graph_dict)\n",
        "        return self._iter_obj\n",
        "    def __next__(self):\n",
        "        return next(self._iter_obj)\n",
        "    def __str__(self):\n",
        "        res = \"vertices: \"\n",
        "        for k in self._graph_dict:\n",
        "            res += str(k) + \" \"\n",
        "        res += \"\\nedges: \"\n",
        "        for edge in self.__generate_edges():\n",
        "            res += str(edge) + \" \"\n",
        "        return res"
      ]
    },
    {
      "cell_type": "code",
      "execution_count": 3,
      "metadata": {
        "id": "-nW1xayz3oqd"
      },
      "outputs": [],
      "source": [
        "g = { \"a\" : {\"d\"},\n",
        "      \"b\" : {\"c\"},\n",
        "      \"c\" : {\"b\", \"c\", \"d\", \"e\"},\n",
        "      \"d\" : {\"a\", \"c\"},\n",
        "      \"e\" : {\"c\"},\n",
        "      \"f\" : {\"b\",\"g\"}\n",
        "    }\n"
      ]
    },
    {
      "cell_type": "code",
      "execution_count": 4,
      "metadata": {
        "colab": {
          "base_uri": "https://localhost:8080/"
        },
        "id": "M7zLH6RF3s_T",
        "outputId": "7ca0d479-25da-40b9-d8fd-0551cf54b60d"
      },
      "outputs": [
        {
          "output_type": "stream",
          "name": "stdout",
          "text": [
            "Edges of vertice a:  {'d'}\n",
            "Edges of vertice b:  {'c'}\n",
            "Edges of vertice c:  {'d', 'b', 'e', 'c'}\n",
            "Edges of vertice d:  {'a', 'c'}\n",
            "Edges of vertice e:  {'c'}\n",
            "Edges of vertice f:  {'b', 'g'}\n"
          ]
        }
      ],
      "source": [
        "graph = Graph(g)\n",
        "for vertice in graph:\n",
        "    print(f\"Edges of vertice {vertice}: \", graph.edges(vertice))\n"
      ]
    },
    {
      "cell_type": "code",
      "source": [
        "graph.add_edge({\"ab\", \"fg\"})\n",
        "graph.add_edge({\"xyz\", \"bla\"})"
      ],
      "metadata": {
        "id": "A2n-TLpFN4jM"
      },
      "execution_count": 5,
      "outputs": []
    },
    {
      "cell_type": "code",
      "source": [
        "print(\"\")\n",
        "print(\"Vertices of graph:\")\n",
        "print(graph.all_vertices())\n",
        "print(\"Edges of graph:\")\n",
        "print(graph.all_edges())"
      ],
      "metadata": {
        "colab": {
          "base_uri": "https://localhost:8080/"
        },
        "id": "ZdF9YGR2N9M4",
        "outputId": "2c83deb6-194b-45ec-d715-e238e10433c0"
      },
      "execution_count": 6,
      "outputs": [
        {
          "output_type": "stream",
          "name": "stdout",
          "text": [
            "\n",
            "Vertices of graph:\n",
            "{'b', 'bla', 'd', 'xyz', 'fg', 'e', 'a', 'ab', 'f', 'c'}\n",
            "Edges of graph:\n",
            "[{'d', 'a'}, {'b', 'c'}, {'d', 'c'}, {'e', 'c'}, {'c'}, {'b', 'f'}, {'f', 'g'}, {'fg', 'ab'}, {'xyz', 'bla'}]\n"
          ]
        }
      ]
    },
    {
      "cell_type": "code",
      "source": [
        "print(\"\")\n",
        "print(\"Vertices of graph:\")\n",
        "print(graph.all_vertices())"
      ],
      "metadata": {
        "colab": {
          "base_uri": "https://localhost:8080/"
        },
        "id": "JgrpTTVbOGqM",
        "outputId": "e48c4c02-3fc1-4f09-a165-d7d1fe2df173"
      },
      "execution_count": 7,
      "outputs": [
        {
          "output_type": "stream",
          "name": "stdout",
          "text": [
            "\n",
            "Vertices of graph:\n",
            "{'b', 'bla', 'd', 'xyz', 'fg', 'e', 'a', 'ab', 'f', 'c'}\n"
          ]
        }
      ]
    },
    {
      "cell_type": "code",
      "source": [
        "print(\"Edges of graph:\")\n",
        "print(graph.all_edges())"
      ],
      "metadata": {
        "colab": {
          "base_uri": "https://localhost:8080/"
        },
        "id": "3MYe81Y5OKcO",
        "outputId": "c9f329a7-ce18-424a-f59c-c4f3ea1b6a38"
      },
      "execution_count": 8,
      "outputs": [
        {
          "output_type": "stream",
          "name": "stdout",
          "text": [
            "Edges of graph:\n",
            "[{'d', 'a'}, {'b', 'c'}, {'d', 'c'}, {'e', 'c'}, {'c'}, {'b', 'f'}, {'f', 'g'}, {'fg', 'ab'}, {'xyz', 'bla'}]\n"
          ]
        }
      ]
    }
  ]
}